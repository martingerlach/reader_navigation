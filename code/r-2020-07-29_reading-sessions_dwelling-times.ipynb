{
 "cells": [
  {
   "cell_type": "markdown",
   "metadata": {},
   "source": [
    "## Interevent times for creating reading sessions\n",
    "\n",
    "When trying to construct reading sessions we have to sessionize sequences of pageviews by the same user into sessions. A typical way is to take the time between two consecutive pageviews (the interevent time) and consider the start of a new session if the interevent time is above a threshold (say 30mins). In [1], the authors looked at the distribution of interevent times in wikipedia pageviews and claimed that 1 hour constitutes an optimal threshold; since then this has become a standard in defining reading sessions. Specifically, the authors looked at the distribution of interevent times and found that this shows a bimodal distribution (Fig. 1); fitting a mixture of gaussian the authors find that the two peaks are best separated by the threshold of 1 hour.\n",
    "\n",
    "[1] Halfaker et al 2015, https://dl.acm.org/doi/10.1145/2736277.2741117\n",
    "\n",
    "\n",
    "#### Here, we revisit the question of how to construct reading sessions.\n",
    "\n",
    "We look at the distribution of interevent times. We do find a bimodal distribution with 2 peaks at around 1 minute and 1 day. The optimal threshold of 1 hour is not immediately obvious.\n",
    "\n",
    "We also consider an alternative criterion by looking at the probability that two consecutive pageviews are about the same topic. The hypothesis is that 2 consecutive pageviews in the same session are more likely to be about the same topic than 2 consecutive pageviews in different sessions. We find that the probability that 2 consectuive pageviews are about the same topic decreases systematically with the interevent time (linearly with the log of the interevent time). This suggests that this criterion does not provide an optimal cutoff.\n",
    "\n",
    "\n",
    "#### These results suggest that there is some ambiguity in how to construct reading sessions"
   ]
  },
  {
   "cell_type": "code",
   "execution_count": 1,
   "metadata": {},
   "outputs": [],
   "source": [
    "import numpy as np\n",
    "import matplotlib as mpl\n",
    "import pylab as plt\n",
    "%matplotlib inline \n",
    "\n",
    "mpl.rcParams['axes.titlesize'] = 16\n",
    "mpl.rcParams['axes.labelsize'] = 14\n",
    "mpl.rcParams['legend.fontsize'] = 12\n",
    "mpl.rcParams['xtick.labelsize'] = 12\n",
    "mpl.rcParams['ytick.labelsize'] = 12\n",
    "mpl.rcParams['axes.spines.right'] = False\n",
    "mpl.rcParams['axes.spines.top'] = False"
   ]
  },
  {
   "cell_type": "code",
   "execution_count": 2,
   "metadata": {},
   "outputs": [
    {
     "name": "stderr",
     "output_type": "stream",
     "text": [
      "You are using wmfdata v1.0.1, but v1.0.4 is available.\n",
      "\n",
      "To update, run `pip install --upgrade git+https://github.com/neilpquinn/wmfdata/wmfdata.git@release`.\n",
      "\n",
      "To see the changes, refer to https://github.com/neilpquinn/wmfdata/blob/release/CHANGELOG.md\n"
     ]
    },
    {
     "data": {
      "text/html": [
       "\n",
       "            <div>\n",
       "                <p><b>SparkSession - hive</b></p>\n",
       "                \n",
       "        <div>\n",
       "            <p><b>SparkContext</b></p>\n",
       "\n",
       "            <p><a href=\"http://stat1005.eqiad.wmnet:4048\">Spark UI</a></p>\n",
       "\n",
       "            <dl>\n",
       "              <dt>Version</dt>\n",
       "                <dd><code>v2.4.4</code></dd>\n",
       "              <dt>Master</dt>\n",
       "                <dd><code>yarn</code></dd>\n",
       "              <dt>AppName</dt>\n",
       "                <dd><code>Pyspark notebook</code></dd>\n",
       "            </dl>\n",
       "        </div>\n",
       "        \n",
       "            </div>\n",
       "        "
      ],
      "text/plain": [
       "<pyspark.sql.session.SparkSession at 0x7f9c5c939390>"
      ]
     },
     "execution_count": 2,
     "metadata": {},
     "output_type": "execute_result"
    }
   ],
   "source": [
    "import os, sys\n",
    "import datetime\n",
    "import calendar\n",
    "import time\n",
    "import string\n",
    "import random\n",
    "import pandas as pd\n",
    "import findspark\n",
    "findspark.init('/usr/lib/spark2')\n",
    "from pyspark.sql import SparkSession\n",
    "from pyspark.sql import functions as F, types as T, Window\n",
    "import wmfdata.spark as wmfspark\n",
    "\n",
    "## defining the spark session\n",
    "spark_config = {}\n",
    "## regular\n",
    "# spark_config = {\n",
    "#     \"spark.driver.memory\": \"2g\",\n",
    "#     \"spark.dynamicAllocation.maxExecutors\": 64,\n",
    "#     \"spark.executor.memory\": \"8g\",\n",
    "#     \"spark.executor.cores\": 4,\n",
    "#     \"spark.sql.shuffle.partitions\": 256\n",
    "# }\n",
    "spark_config = {\n",
    "    \"spark.driver.memory\": \"4g\",\n",
    "    \"spark.dynamicAllocation.maxExecutors\": 128,\n",
    "    \"spark.executor.memory\": \"8g\",\n",
    "    \"spark.executor.cores\": 4,\n",
    "    \"spark.sql.shuffle.partitions\": 512\n",
    "}\n",
    "\n",
    "os.environ['PYSPARK_DRIVER_PYTHON'] = 'notebook'\n",
    "os.environ['PYSPARK_PYTHON'] = '/usr/bin/python3.5'\n",
    "\n",
    "spark = wmfspark.get_session(\n",
    "    app_name='Pyspark notebook', \n",
    "    extra_settings=spark_config\n",
    ")\n",
    "spark"
   ]
  },
  {
   "cell_type": "markdown",
   "metadata": {},
   "source": [
    "## Load the topics for each page in Wikipedia\n",
    "\n",
    "The topics for wikipedia-pages are taken from here: https://figshare.com/articles/Topics_for_each_Wikipedia_Article_across_Languages/12127434\n",
    "\n",
    "Copy to hive via:\n",
    "\n",
    "hdfs dfs -copyFromLocal -f topicsForAllWikipediaPages.csv /user/mgerlach/topicsForAllWikipediaPages.csv"
   ]
  },
  {
   "cell_type": "code",
   "execution_count": 3,
   "metadata": {},
   "outputs": [
    {
     "name": "stdout",
     "output_type": "stream",
     "text": [
      "root\n",
      " |-- Qid: string (nullable = true)\n",
      " |-- topic: string (nullable = true)\n",
      " |-- probability: string (nullable = true)\n",
      " |-- page_id: string (nullable = true)\n",
      " |-- page_title: string (nullable = true)\n",
      " |-- wiki_db: string (nullable = true)\n",
      "\n"
     ]
    }
   ],
   "source": [
    "filename_read = '/user/mgerlach/topicsForAllWikipediaPages.csv'\n",
    "df_topics = spark.read.csv(filename_read,header=True)\n",
    "df_topics.printSchema()"
   ]
  },
  {
   "cell_type": "code",
   "execution_count": 4,
   "metadata": {},
   "outputs": [],
   "source": [
    "## only keep qids (get rid of page-id, page-title, wiki_db)\n",
    "df_topics_qid = (\n",
    "    df_topics\n",
    "    .select(\n",
    "        'Qid',\n",
    "        'topic',\n",
    "        'probability'\n",
    "    )\n",
    "    .distinct()\n",
    ")"
   ]
  },
  {
   "cell_type": "code",
   "execution_count": 5,
   "metadata": {},
   "outputs": [],
   "source": [
    "df_topics_qid_agg = (\n",
    "    df_topics_qid\n",
    "    .where(F.col('probability')>0.5)\n",
    "    .groupBy('Qid')\n",
    "    .agg(\n",
    "        F.array_sort(\n",
    "            F.collect_list(\n",
    "                F.struct(\n",
    "                    F.col('topic'),\n",
    "                    F.col('probability'),\n",
    "                )\n",
    "                \n",
    "            )\n",
    "        ).alias('topics')\n",
    "    )\n",
    "    .withColumnRenamed('Qid','item_id')\n",
    ")"
   ]
  },
  {
   "cell_type": "markdown",
   "metadata": {},
   "source": [
    "## Get the reading sessions\n",
    "\n",
    "We get reading sessions for one week in English Wikipedia from the [pageview-actor table](https://wikitech.wikimedia.org/wiki/Analytics/Data_Lake/Traffic/Pageview_actor)"
   ]
  },
  {
   "cell_type": "code",
   "execution_count": 40,
   "metadata": {},
   "outputs": [],
   "source": [
    "## wiki_db ## seleecting wikidata gets pageviews from all wikis\n",
    "## select a specific wiki_db for testing to reduce processing time, e.g. simplewiki\n",
    "wiki_db = 'enwiki'\n",
    "\n",
    "## timewindow\n",
    "date_start = datetime.datetime(2020, 7, 1, 0)\n",
    "# date_end = datetime.datetime(2020, 7, 1, 1)\n",
    "# date_end = datetime.datetime(2020, 7, 2, 0)\n",
    "date_end = datetime.datetime(2020, 7, 8, 0)\n",
    "\n",
    "\n",
    "ts_start = calendar.timegm(date_start.timetuple())\n",
    "ts_end = calendar.timegm(date_end.timetuple())\n",
    "row_timestamp = F.unix_timestamp(F.concat(\n",
    "    F.col('year'), F.lit('-'), F.col('month'), F.lit('-'), F.col('day'), \n",
    "    F.lit(' '), F.col('hour'), F.lit(':00:00')))"
   ]
  },
  {
   "cell_type": "code",
   "execution_count": 41,
   "metadata": {},
   "outputs": [],
   "source": [
    "## filter pageviews from actor with more than 500 pageviews\n",
    "## the aim is to filter automated traffic that is not tagged as spider\n",
    "w_p = Window.partitionBy(F.col('actor_signature_per_project_family'), F.col('year'), F.col('month'), F.col('day'))\n",
    "n_p_max = 500 ## maximum number of pageviews/user/day\n",
    "n_p_min = 1 ## minimum number of pageviews/user/day"
   ]
  },
  {
   "cell_type": "code",
   "execution_count": 42,
   "metadata": {},
   "outputs": [],
   "source": [
    "df_actor = (\n",
    "    spark.read.table('wmf.pageview_actor')\n",
    "    .where(row_timestamp >= ts_start)\n",
    "    .where(row_timestamp < ts_end)\n",
    "    .where(F.col('is_pageview')==True)\n",
    "    ## agent-type user to filter spiders\n",
    "    ## https://meta.wikimedia.org/wiki/Research:Page_view/Tags#Spider\n",
    "    .where(F.col('agent_type') == \"user\")\n",
    "    ## user: desktop/mobile/mobile app; isaac filters != mobile app\n",
    "    .where(F.col('access_method') != \"mobile app\")\n",
    "    ## only wikis\n",
    "    .where(F.col('normalized_host.project_family')=='wikipedia')\n",
    "    ## only namespace 0\n",
    "    .where( F.col('namespace_id') == 0 )\n",
    "    .withColumn('wiki_db', F.concat(F.col('normalized_host.project'),F.lit('wiki')) )\n",
    ")\n",
    "## filter only specific wiki (or all if wiki_db=='wikidata')\n",
    "if wiki_db == 'wikidata':\n",
    "    pass\n",
    "else:\n",
    "    df_actor = df_actor.where(F.col('wiki_db')==wiki_db)\n",
    "    \n",
    "## filter maximum and minimum pageviews per user\n",
    "## n_p is the number of pageviews per actor per day (across projects)\n",
    "df_actor = (\n",
    "    df_actor\n",
    "    .withColumn('n_p', F.sum(F.lit(1)).over(w_p) )\n",
    "    .where(F.col('n_p') >= n_p_min)\n",
    "    .where(F.col('n_p') <= n_p_max)    \n",
    ")\n",
    "# df_tmp=df_actor.limit(10).toPandas()\n",
    "# df_tmp.head()"
   ]
  },
  {
   "cell_type": "code",
   "execution_count": 43,
   "metadata": {},
   "outputs": [],
   "source": [
    "## join the wikidata-item to each pageview\n",
    "## we keep only pageviews for which we have a correpsionding wikidata-item id\n",
    "\n",
    "## table with mapping wikidata-ids to page-ids\n",
    "## partition wikidb and page-id ordered by snapshot\n",
    "w_wd = Window.partitionBy(F.col('wiki_db'),F.col('page_id')).orderBy(F.col('snapshot').desc())\n",
    "df_wd = (\n",
    "    spark.read.table('wmf.wikidata_item_page_link')\n",
    "    ## snapshot: this is a partition!\n",
    "    .where(F.col('snapshot') >= '2020-01-06') ## resolve issues with non-mathcing wikidata-items\n",
    "    ## only wikis (enwiki, ... not: wikisource)\n",
    "    .where(F.col('wiki_db').endswith('wiki'))\n",
    ")\n",
    "## filter only specific wiki (or all if wiki_db=='wikidata')\n",
    "if wiki_db == 'wikidata':\n",
    "    pass\n",
    "else:\n",
    "    df_wd = df_wd.where(F.col('wiki_db')==wiki_db)\n",
    "## get the most recent wikidata-item for each pid+wikidb\n",
    "df_wd = (\n",
    "    df_wd\n",
    "    .withColumn('item_id_latest',F.first(F.col('item_id')).over(w_wd))\n",
    "    .select(\n",
    "        'wiki_db',\n",
    "        'page_id',\n",
    "        F.col('item_id_latest').alias('item_id')\n",
    "    )\n",
    "    .drop_duplicates()\n",
    ")\n",
    "df_actor_wd = (\n",
    "    df_actor\n",
    "    .join(\n",
    "        df_wd,\n",
    "        on = ['page_id','wiki_db'],\n",
    "        how='inner'\n",
    "    )\n",
    ")"
   ]
  },
  {
   "cell_type": "code",
   "execution_count": 44,
   "metadata": {},
   "outputs": [],
   "source": [
    "## join in the topics\n",
    "df_actor_wd = (\n",
    "    df_actor_wd\n",
    "    .join(\n",
    "        df_topics_qid_agg,\n",
    "        on = ['item_id'],\n",
    "        how='left'\n",
    "    )\n",
    "    \n",
    ")"
   ]
  },
  {
   "cell_type": "code",
   "execution_count": 45,
   "metadata": {},
   "outputs": [],
   "source": [
    "## aggregate all pageviews with same actor-signature across wikis\n",
    "df_actor_wd_agg = (\n",
    "    df_actor_wd\n",
    "    .groupby('actor_signature_per_project_family')\n",
    "    .agg(\n",
    "         F.first(F.col('access_method')).alias('access_method'), ## this could change along a session\n",
    "         F.first(F.col('geocoded_data')).alias('geocoded_data'),\n",
    "#              F.first(F.col('n_p_by_user')).alias('session_length'),\n",
    "         F.array_sort(\n",
    "             F.collect_list(\n",
    "                 F.struct(\n",
    "                     F.col('ts'),\n",
    "                     F.col('page_id'),\n",
    "                     F.col('pageview_info.page_title').alias('page_title'),\n",
    "                     F.col('wiki_db'),\n",
    "                     F.col('item_id').alias('qid'),\n",
    "                     F.col('topics')\n",
    "                 )\n",
    "             )\n",
    "         ).alias('session')\n",
    "     )\n",
    ")"
   ]
  },
  {
   "cell_type": "markdown",
   "metadata": {},
   "source": [
    "## Calculate the time-difference between 2 consecutive pageviews (dwelling times)"
   ]
  },
  {
   "cell_type": "code",
   "execution_count": 46,
   "metadata": {},
   "outputs": [],
   "source": [
    "df = df_actor_wd_agg.rdd.map(lambda x: x['session'])"
   ]
  },
  {
   "cell_type": "code",
   "execution_count": 47,
   "metadata": {},
   "outputs": [],
   "source": [
    "def dwelling_times(requests):\n",
    "    n = len(requests)\n",
    "    list_ts = []\n",
    "    if n>1:\n",
    "        i=0\n",
    "        for i in range(n-1):\n",
    "            r1 = requests[i]\n",
    "            r2 = requests[i+1]\n",
    "            t1 = r1.ts\n",
    "            t2 = r2.ts\n",
    "            if t1!=None and t2!=None:\n",
    "                ts = int((r2.ts-r1.ts).total_seconds())\n",
    "            else:\n",
    "                ts=np.nan\n",
    "            topics1 = r1.topics\n",
    "            if topics1!=None:\n",
    "                t1 = [h['topic'] for h in topics1]\n",
    "            else:\n",
    "                t1 = []\n",
    "            topics2 = r2.topics\n",
    "            if topics2!=None:\n",
    "                t2 = [h['topic'] for h in topics2]\n",
    "            else:\n",
    "                t2 = []\n",
    "                \n",
    "            t_remains = 0 ## overlap in topics\n",
    "            if len(set(t1).intersection(set(t2)))>0:\n",
    "                t_remains=1\n",
    "            list_ts.append(\n",
    "                T.Row(\n",
    "                    dwelling_times=ts,\n",
    "                    t_from=t1,\n",
    "                    t_to=t2,\n",
    "                    t_remains=t_remains\n",
    "                )\n",
    "            )\n",
    "    return list_ts\n",
    "\n",
    "df_ts = df.flatMap(dwelling_times)        \n",
    "# df_ts.take(10)"
   ]
  },
  {
   "cell_type": "code",
   "execution_count": 48,
   "metadata": {},
   "outputs": [
    {
     "data": {
      "text/html": [
       "<div>\n",
       "<style scoped>\n",
       "    .dataframe tbody tr th:only-of-type {\n",
       "        vertical-align: middle;\n",
       "    }\n",
       "\n",
       "    .dataframe tbody tr th {\n",
       "        vertical-align: top;\n",
       "    }\n",
       "\n",
       "    .dataframe thead th {\n",
       "        text-align: right;\n",
       "    }\n",
       "</style>\n",
       "<table border=\"1\" class=\"dataframe\">\n",
       "  <thead>\n",
       "    <tr style=\"text-align: right;\">\n",
       "      <th></th>\n",
       "      <th>dwelling_times</th>\n",
       "      <th>c_dt</th>\n",
       "      <th>c_tr</th>\n",
       "    </tr>\n",
       "  </thead>\n",
       "  <tbody>\n",
       "    <tr>\n",
       "      <th>0</th>\n",
       "      <td>NaN</td>\n",
       "      <td>0</td>\n",
       "      <td>14</td>\n",
       "    </tr>\n",
       "    <tr>\n",
       "      <th>1</th>\n",
       "      <td>0.0</td>\n",
       "      <td>15117468</td>\n",
       "      <td>11525021</td>\n",
       "    </tr>\n",
       "    <tr>\n",
       "      <th>2</th>\n",
       "      <td>1.0</td>\n",
       "      <td>14453421</td>\n",
       "      <td>10832217</td>\n",
       "    </tr>\n",
       "    <tr>\n",
       "      <th>3</th>\n",
       "      <td>2.0</td>\n",
       "      <td>21119648</td>\n",
       "      <td>15385914</td>\n",
       "    </tr>\n",
       "    <tr>\n",
       "      <th>4</th>\n",
       "      <td>3.0</td>\n",
       "      <td>22688743</td>\n",
       "      <td>16261560</td>\n",
       "    </tr>\n",
       "  </tbody>\n",
       "</table>\n",
       "</div>"
      ],
      "text/plain": [
       "   dwelling_times      c_dt      c_tr\n",
       "0             NaN         0        14\n",
       "1             0.0  15117468  11525021\n",
       "2             1.0  14453421  10832217\n",
       "3             2.0  21119648  15385914\n",
       "4             3.0  22688743  16261560"
      ]
     },
     "execution_count": 48,
     "metadata": {},
     "output_type": "execute_result"
    }
   ],
   "source": [
    "df_dt_counts = (\n",
    "    df_ts.toDF()\n",
    "    .groupBy('dwelling_times')\n",
    "    .agg(\n",
    "        F.count(F.col('dwelling_times')).alias('c_dt'),\n",
    "        F.sum(F.col('t_remains')).alias('c_tr')\n",
    "    )\n",
    "    .orderBy('dwelling_times')\n",
    ")\n",
    "df_dt_counts = df_dt_counts.toPandas()\n",
    "df_dt_counts.head()"
   ]
  },
  {
   "cell_type": "code",
   "execution_count": 53,
   "metadata": {},
   "outputs": [],
   "source": [
    "df_dt_counts=df_dt_counts.dropna()"
   ]
  },
  {
   "cell_type": "code",
   "execution_count": 59,
   "metadata": {},
   "outputs": [
    {
     "data": {
      "text/plain": [
       "dwelling_times    1.773619e+11\n",
       "c_dt              1.185891e+09\n",
       "c_tr              7.397490e+08\n",
       "dtype: float64"
      ]
     },
     "execution_count": 59,
     "metadata": {},
     "output_type": "execute_result"
    }
   ],
   "source": [
    "df_dt_counts.sum(axis=0)"
   ]
  },
  {
   "cell_type": "markdown",
   "metadata": {},
   "source": [
    "#### Cumulative distribution of dwelling times\n",
    "\n",
    "This is the probability that the dwelling time between 2 consecutive pageviews is larger than x (the distribution starts at 1 and decays monotonically to 0).\n",
    "\n",
    "- we plot this in a log-log plot since the dwelling times span many orders of magnitude (from 1 sec to 1 day).\n",
    "- we see in this plot that the distribution is a linear line (from around 10 secs to 10,000 secs). This suggests that there is no characteristics time which would indicate a best threshold."
   ]
  },
  {
   "cell_type": "code",
   "execution_count": 54,
   "metadata": {},
   "outputs": [
    {
     "data": {
      "text/plain": [
       "Text(0.5, 1.0, 'Cumulative distribution dwelling times')"
      ]
     },
     "execution_count": 54,
     "metadata": {},
     "output_type": "execute_result"
    },
    {
     "data": {
      "image/png": "[encoded data removed]",
      "text/plain": [
       "<Figure size 432x288 with 1 Axes>"
      ]
     },
     "metadata": {
      "needs_background": "light"
     },
     "output_type": "display_data"
    }
   ],
   "source": [
    "## cumulative distribution\n",
    "\n",
    "dt_arr = np.array(df_dt_counts['dwelling_times'])\n",
    "n_arr = np.array(df_dt_counts['c_dt'])\n",
    "p_arr = n_arr/np.sum(n_arr)\n",
    "p_arr_cumsum = 1 - np.cumsum(p_arr)\n",
    "\n",
    "\n",
    "fig, ax = plt.subplots(1, 1 ,figsize=(6,4 ))\n",
    "x = dt_arr\n",
    "y = p_arr_cumsum\n",
    "ax.plot(x,y,lw=2)\n",
    "ax.set_xscale('log')\n",
    "ax.set_yscale('log')\n",
    "\n",
    "y_min,y_max = 0.001,2.\n",
    "ax.set_ylim(y_min,y_max)\n",
    "ax.set_xlabel('dt [sec]')\n",
    "ax.set_ylabel('P(dt >= x)')\n",
    "\n",
    "\n",
    "list_dt_map = [60,60*60,60*60*24]\n",
    "list_dt_labels = ['1min','1hr','1day']\n",
    "for i_dt_map,dt_map in enumerate(list_dt_map):\n",
    "    ax.plot( [dt_map,dt_map],[y_min,y_max], lw=1, color=str(0.5),ls='-'  )\n",
    "    ax.text(1.1*dt_map,1.0,list_dt_labels[i_dt_map])\n",
    "ax.set_title('Cumulative distribution dwelling times')"
   ]
  },
  {
   "cell_type": "markdown",
   "metadata": {},
   "source": [
    "#### Log-binned histogram of dwelling times\n",
    "\n",
    "We count the fraction of events that fall in a given bin of dwelling times (number of events in the bin dividied by the total number of events). We systematically increase the size of the bin in order to account for the fact that we have fewer and fewer events for larger dwelling times, i.e. the bins are [1], [2,3], [4,5,6,7], [8-15], [16-31], etc.\n",
    "\n",
    "\n",
    "- we now see two peaks at around 1 minute and 1 day"
   ]
  },
  {
   "cell_type": "code",
   "execution_count": 55,
   "metadata": {},
   "outputs": [
    {
     "data": {
      "image/png": "[encoded data removed]",
      "text/plain": [
       "<Figure size 576x432 with 1 Axes>"
      ]
     },
     "metadata": {
      "needs_background": "light"
     },
     "output_type": "display_data"
    }
   ],
   "source": [
    "## log-binned histogram\n",
    "\n",
    "dtmax = np.max(dt_arr)\n",
    "dtmax2 = int(np.log2(dtmax))+1\n",
    "bins = np.logspace( 0,dtmax2,dtmax2+1,base=2  ).astype(int)\n",
    "\n",
    "fig, ax = plt.subplots(1, 1 ,figsize=(8,6 ))\n",
    "dt_arr_bins = bins[:-1]\n",
    "n_arr_bins = np.array([])\n",
    "for i_bin in range(len(bins)-1):\n",
    "    x1 = bins[i_bin]\n",
    "    x2 = bins[i_bin+1]\n",
    "    ind_sel = np.where( (dt_arr>=x1)&(dt_arr<x2) )[0]\n",
    "    n_sel = np.sum(n_arr[ind_sel])\n",
    "    n_arr_bins=np.append(n_arr_bins,n_sel)\n",
    "x = dt_arr_bins\n",
    "y = n_arr_bins/np.sum(n_arr_bins)\n",
    "ax.plot(x,y,lw=2,marker='o')\n",
    "    \n",
    "  \n",
    "    \n",
    "ax.set_xscale('log')\n",
    "ax.set_yscale('log')\n",
    "y_min,y_max = 0.001,2.\n",
    "ax.set_ylim(y_min,y_max)\n",
    "ax.set_xlabel('dt')\n",
    "ax.set_ylabel('P(dt)')\n",
    "list_dt_map = [1,60,60*15,60*60,60*60*8,60*60*24]\n",
    "list_dt_labels = ['1s','1m','15m','1h','8h','1d']\n",
    "ax.set_xticks(list_dt_map)\n",
    "ax.set_xticklabels(list_dt_labels)\n",
    "ax.grid(True)\n",
    "\n",
    "ax.set_title('Histrogram dwelling times [Log2-binning secs]')\n",
    "# ax.legend(loc='lower left')\n",
    "plt.tight_layout()"
   ]
  },
  {
   "cell_type": "code",
   "execution_count": null,
   "metadata": {},
   "outputs": [],
   "source": []
  },
  {
   "cell_type": "code",
   "execution_count": null,
   "metadata": {},
   "outputs": [],
   "source": []
  },
  {
   "cell_type": "markdown",
   "metadata": {},
   "source": [
    "## 2 consecutive pageviews with the same topic\n",
    "\n",
    "We show the probability that 2 consectuive pageviews have the same topic.\n",
    "We plot the probability as a function of the dwelling time.\n",
    "\n",
    "As expected, the probability decreases (i.e. it is less likely that 2 pageviews have the same topic the further they are apart in time).\n",
    "\n",
    "The linear decay (with logarithmic x-axis) does not suggest that there is a charactersitic time at which to impose a cutoff.\n",
    "\n"
   ]
  },
  {
   "cell_type": "code",
   "execution_count": 57,
   "metadata": {},
   "outputs": [
    {
     "data": {
      "image/png": "[encoded data removed]",
      "text/plain": [
       "<Figure size 576x432 with 1 Axes>"
      ]
     },
     "metadata": {
      "needs_background": "light"
     },
     "output_type": "display_data"
    }
   ],
   "source": [
    "dt_arr = np.array(df_dt_counts['dwelling_times'])\n",
    "n_arr = np.array(df_dt_counts['c_dt'])\n",
    "n_tr_arr = np.array(df_dt_counts['c_tr'])\n",
    "\n",
    "\n",
    "dtmax = np.max(dt_arr)\n",
    "dtmax2 = int(np.log2(dtmax))+1\n",
    "bins = np.logspace( 0,dtmax2,dtmax2+1,base=2  ).astype(int)\n",
    "\n",
    "fig, ax = plt.subplots(1, 1 ,figsize=(8,6 ))\n",
    "dt_arr_bins = bins[:-1]\n",
    "p_arr_bins = np.array([])\n",
    "for i_bin in range(len(bins)-1):\n",
    "    x1 = bins[i_bin]\n",
    "    x2 = bins[i_bin+1]\n",
    "    ind_sel = np.where( (dt_arr>=x1)&(dt_arr<x2) )[0]\n",
    "    n_sel = np.sum(n_arr[ind_sel])\n",
    "    n_tr_sel = np.sum(n_tr_arr[ind_sel])\n",
    "    p_sel = n_tr_sel/n_sel\n",
    "    p_arr_bins=np.append(p_arr_bins,p_sel)\n",
    "x = dt_arr_bins\n",
    "y = p_arr_bins\n",
    "ax.plot(x,y,lw=2,marker='o')\n",
    "    \n",
    "  \n",
    "    \n",
    "ax.set_xscale('log')\n",
    "# ax.set_yscale('log')\n",
    "y_min,y_max = 0.0,1.\n",
    "ax.set_ylim(y_min,y_max)\n",
    "ax.set_xlabel('dt')\n",
    "ax.set_ylabel('P(same topic)')\n",
    "list_dt_map = [1,60,60*15,60*60,60*60*8,60*60*24]\n",
    "list_dt_labels = ['1s','1m','15m','1h','8h','1d']\n",
    "ax.set_xticks(list_dt_map)\n",
    "ax.set_xticklabels(list_dt_labels)\n",
    "ax.grid(True)\n",
    "\n",
    "ax.set_title('Histrogram probability to transition topics [Log2-binning secs]')\n",
    "# ax.legend(loc='lower left')\n",
    "plt.tight_layout()"
   ]
  },
  {
   "cell_type": "code",
   "execution_count": null,
   "metadata": {},
   "outputs": [],
   "source": []
  },
  {
   "cell_type": "code",
   "execution_count": null,
   "metadata": {},
   "outputs": [],
   "source": []
  }
 ],
 "metadata": {
  "kernelspec": {
   "display_name": "venv_wmfdata",
   "language": "python",
   "name": "venv_wmfdata"
  },
  "language_info": {
   "codemirror_mode": {
    "name": "ipython",
    "version": 3
   },
   "file_extension": ".py",
   "mimetype": "text/x-python",
   "name": "python",
   "nbconvert_exporter": "python",
   "pygments_lexer": "ipython3",
   "version": "3.7.3"
  }
 },
 "nbformat": 4,
 "nbformat_minor": 2
}
